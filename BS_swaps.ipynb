{
  "cells": [
    {
      "cell_type": "markdown",
      "metadata": {
        "id": "j_cccfhT8nGB"
      },
      "source": [
        "# European Swaption - Black formula\n",
        "\n"
      ]
    },
    {
      "cell_type": "markdown",
      "metadata": {
        "id": "BSUQdVHy8mKm"
      },
      "source": [
        "According to:\n",
        "\n",
        "https://repository.tudelft.nl/islandora/object/uuid:29b7dbc4-d8c9-45e7-bd27-0e8c94267398/datastream/OBJ/download\n",
        "\n",
        "\n"
      ]
    },
    {
      "cell_type": "code",
      "execution_count": null,
      "metadata": {
        "colab": {
          "base_uri": "https://localhost:8080/"
        },
        "id": "LILriiilIWQW",
        "outputId": "881b45d1-0e53-4335-9f5c-bfedb6537f15"
      },
      "outputs": [
        {
          "name": "stdout",
          "output_type": "stream",
          "text": [
            "[2.5, 3.0]\n",
            "European Swaption Price: 0.3210753273523761\n"
          ]
        }
      ],
      "source": [
        "import numpy as np\n",
        "from scipy.stats import norm\n",
        "\n",
        "def black_formula_pv(swap_rate, strike_rate, volatility, notional, tenor):\n",
        "    d1 = (np.log(swap_rate / strike_rate) + 0.5 * volatility**2 * tenor) / (volatility * np.sqrt(tenor))\n",
        "    d2 = d1 - volatility * np.sqrt(tenor)\n",
        "    discount = discount_curve(option_maturity, nbr_payments, T_advance)\n",
        "    \n",
        "    pv = notional * discount  * (swap_rate * norm.cdf(d1) - strike_rate * norm.cdf(d2))\n",
        "    return pv\n",
        "\n",
        "def european_swaption_price(swap_rate, strike_rate, volatility, notional, tenor, option_maturity,T_advance, nbr_payments):\n",
        "    #discount_factor = discount_curve(option_maturity)\n",
        "    pv = black_formula_pv(swap_rate, strike_rate, volatility, notional, tenor)\n",
        "    return pv\n",
        "\n",
        "# Example usage:\n",
        "\n",
        "# Input parameters\n",
        "swap_rate = 0.05063  # underlying swap rate at maturity\n",
        "strike_rate = 0.052  # strike rate\n",
        "volatility = 0.15  # volatility of underlying swap rate\n",
        "notional = 100 # notional amount\n",
        "tenor = 2  # tenor of the swap\n",
        "option_maturity = 1  # maturity of the swaption (in years)\n",
        "T_advance= 2\n",
        "nbr_payments=tenor*option_maturity\n",
        "\n",
        "\n",
        "\n",
        "\n",
        "# Sample discount curve function (for simplicity, using a flat curve here)\n",
        "def discount_curve(maturity, nbr_payments, T_advance):\n",
        "    discount_terms= [np.exp(-0.05*T) for T in payment_Ts(tenor,T_advance,option_maturity)]\n",
        "    return  sum(discount_terms) * (1/nbr_payments)  # flat discount rate of 5%\n",
        "\n",
        "def payment_Ts(tenor,T_advance,option_maturity):\n",
        "# Start from T_advance + (1/tenor)\n",
        "  value_list=[]\n",
        "  step_size = 1 / tenor\n",
        "  current_value = T_advance + step_size\n",
        "\n",
        "# Generate the list using a loop\n",
        "  while current_value <= option_maturity + T_advance:\n",
        "    value_list.append(current_value)\n",
        "    current_value += step_size\n",
        "\n",
        "  print(value_list)\n",
        "  return value_list\n",
        "\n",
        "\n",
        "# Calculate European swaption price\n",
        "price = european_swaption_price(swap_rate, strike_rate, volatility, notional, tenor, option_maturity,T_advance, nbr_payments)\n",
        "\n",
        "print(\"European Swaption Price:\", price)\n"
      ]
    }
  ],
  "metadata": {
    "colab": {
      "provenance": []
    },
    "kernelspec": {
      "display_name": "Python 3",
      "name": "python3"
    },
    "language_info": {
      "name": "python"
    }
  },
  "nbformat": 4,
  "nbformat_minor": 0
}
